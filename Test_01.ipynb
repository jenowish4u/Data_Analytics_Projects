{
    "nbformat_minor": 1, 
    "cells": [
        {
            "execution_count": 2, 
            "cell_type": "code", 
            "metadata": {}, 
            "outputs": [], 
            "source": "import pandas as pd\nimport numpy as np\nfrom matplotlib import pyplot\nimport sys\nimport types\nfrom botocore.client import Config\nimport ibm_boto3\n%matplotlib inline"
        }, 
        {
            "execution_count": 9, 
            "cell_type": "code", 
            "metadata": {}, 
            "outputs": [], 
            "source": "# The code was removed by DSX for sharing."
        }, 
        {
            "execution_count": 10, 
            "cell_type": "code", 
            "metadata": {}, 
            "outputs": [
                {
                    "execution_count": 10, 
                    "metadata": {}, 
                    "data": {
                        "text/html": "<div>\n<style scoped>\n    .dataframe tbody tr th:only-of-type {\n        vertical-align: middle;\n    }\n\n    .dataframe tbody tr th {\n        vertical-align: top;\n    }\n\n    .dataframe thead th {\n        text-align: right;\n    }\n</style>\n<table border=\"1\" class=\"dataframe\">\n  <thead>\n    <tr style=\"text-align: right;\">\n      <th></th>\n      <th>ID</th>\n      <th>Datetime</th>\n    </tr>\n  </thead>\n  <tbody>\n    <tr>\n      <th>0</th>\n      <td>18288</td>\n      <td>26-09-2014 00:00</td>\n    </tr>\n    <tr>\n      <th>1</th>\n      <td>18289</td>\n      <td>26-09-2014 01:00</td>\n    </tr>\n    <tr>\n      <th>2</th>\n      <td>18290</td>\n      <td>26-09-2014 02:00</td>\n    </tr>\n    <tr>\n      <th>3</th>\n      <td>18291</td>\n      <td>26-09-2014 03:00</td>\n    </tr>\n    <tr>\n      <th>4</th>\n      <td>18292</td>\n      <td>26-09-2014 04:00</td>\n    </tr>\n  </tbody>\n</table>\n</div>", 
                        "text/plain": "      ID          Datetime\n0  18288  26-09-2014 00:00\n1  18289  26-09-2014 01:00\n2  18290  26-09-2014 02:00\n3  18291  26-09-2014 03:00\n4  18292  26-09-2014 04:00"
                    }, 
                    "output_type": "execute_result"
                }
            ], 
            "source": "\n\nbody = client_86ba35c926f84db7858cef16e85d18a2.get_object(Bucket='pythonprod-donotdelete-pr-srv9m9u8jogqho',Key='Test_time_series.csv')['Body']\n# add missing __iter__ method, so pandas accepts body as file-like object\nif not hasattr(body, \"__iter__\"): body.__iter__ = types.MethodType( __iter__, body )\n\ntest_data = pd.read_csv(body)\ntest_data.head()\n"
        }, 
        {
            "execution_count": null, 
            "cell_type": "code", 
            "metadata": {}, 
            "outputs": [], 
            "source": ""
        }
    ], 
    "metadata": {
        "kernelspec": {
            "display_name": "Python 3.5", 
            "name": "python3", 
            "language": "python"
        }, 
        "language_info": {
            "mimetype": "text/x-python", 
            "nbconvert_exporter": "python", 
            "version": "3.5.4", 
            "name": "python", 
            "file_extension": ".py", 
            "pygments_lexer": "ipython3", 
            "codemirror_mode": {
                "version": 3, 
                "name": "ipython"
            }
        }
    }, 
    "nbformat": 4
}